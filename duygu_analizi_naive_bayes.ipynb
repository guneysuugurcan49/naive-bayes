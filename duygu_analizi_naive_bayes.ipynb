{
  "nbformat": 4,
  "nbformat_minor": 0,
  "metadata": {
    "colab": {
      "provenance": [],
      "gpuType": "T4"
    },
    "kernelspec": {
      "name": "python3",
      "display_name": "Python 3"
    },
    "language_info": {
      "name": "python"
    },
    "accelerator": "GPU"
  },
  "cells": [
    {
      "cell_type": "code",
      "execution_count": null,
      "metadata": {
        "colab": {
          "base_uri": "https://localhost:8080/"
        },
        "id": "3ex5YByqPhZT",
        "outputId": "46aecc39-1299-4664-b934-1b9e6641590a"
      },
      "outputs": [
        {
          "output_type": "stream",
          "name": "stdout",
          "text": [
            "Mounted at /content/drive\n",
            "Requirement already satisfied: wordcloud in /usr/local/lib/python3.11/dist-packages (1.9.4)\n",
            "Requirement already satisfied: numpy>=1.6.1 in /usr/local/lib/python3.11/dist-packages (from wordcloud) (2.0.2)\n",
            "Requirement already satisfied: pillow in /usr/local/lib/python3.11/dist-packages (from wordcloud) (11.1.0)\n",
            "Requirement already satisfied: matplotlib in /usr/local/lib/python3.11/dist-packages (from wordcloud) (3.10.0)\n",
            "Requirement already satisfied: contourpy>=1.0.1 in /usr/local/lib/python3.11/dist-packages (from matplotlib->wordcloud) (1.3.1)\n",
            "Requirement already satisfied: cycler>=0.10 in /usr/local/lib/python3.11/dist-packages (from matplotlib->wordcloud) (0.12.1)\n",
            "Requirement already satisfied: fonttools>=4.22.0 in /usr/local/lib/python3.11/dist-packages (from matplotlib->wordcloud) (4.57.0)\n",
            "Requirement already satisfied: kiwisolver>=1.3.1 in /usr/local/lib/python3.11/dist-packages (from matplotlib->wordcloud) (1.4.8)\n",
            "Requirement already satisfied: packaging>=20.0 in /usr/local/lib/python3.11/dist-packages (from matplotlib->wordcloud) (24.2)\n",
            "Requirement already satisfied: pyparsing>=2.3.1 in /usr/local/lib/python3.11/dist-packages (from matplotlib->wordcloud) (3.2.3)\n",
            "Requirement already satisfied: python-dateutil>=2.7 in /usr/local/lib/python3.11/dist-packages (from matplotlib->wordcloud) (2.8.2)\n",
            "Requirement already satisfied: six>=1.5 in /usr/local/lib/python3.11/dist-packages (from python-dateutil>=2.7->matplotlib->wordcloud) (1.17.0)\n"
          ]
        },
        {
          "output_type": "stream",
          "name": "stderr",
          "text": [
            "[nltk_data] Downloading package stopwords to /root/nltk_data...\n",
            "[nltk_data]   Unzipping corpora/stopwords.zip.\n"
          ]
        },
        {
          "output_type": "execute_result",
          "data": {
            "text/plain": [
              "True"
            ]
          },
          "metadata": {},
          "execution_count": 1
        }
      ],
      "source": [
        "# Google Drive'ı bağlama\n",
        "from google.colab import drive\n",
        "drive.mount('/content/drive')\n",
        "\n",
        "# Gerekli kütüphaneleri yükleme\n",
        "!pip install wordcloud\n",
        "import pandas as pd\n",
        "import numpy as np\n",
        "import matplotlib.pyplot as plt\n",
        "import seaborn as sns\n",
        "import zipfile\n",
        "import os\n",
        "from wordcloud import WordCloud\n",
        "from sklearn.feature_extraction.text import CountVectorizer\n",
        "from sklearn.naive_bayes import MultinomialNB\n",
        "from sklearn.model_selection import train_test_split\n",
        "from sklearn.metrics import classification_report, confusion_matrix, accuracy_score\n",
        "import re\n",
        "import nltk\n",
        "from nltk.corpus import stopwords\n",
        "from nltk.stem import PorterStemmer\n",
        "\n",
        "# NLTK verilerini indirme\n",
        "nltk.download('stopwords')"
      ]
    },
    {
      "cell_type": "code",
      "source": [
        "# Zip dosyasını yükleme\n",
        "from google.colab import files\n",
        "uploaded = files.upload()\n",
        "\n",
        "# Yüklenen zip dosyasının adını bulma\n",
        "zip_filename = list(uploaded.keys())[0]\n",
        "print(f\"Yüklenen dosya: {zip_filename}\")\n",
        "\n",
        "# Zip dosyasını çıkarma\n",
        "with zipfile.ZipFile(zip_filename, 'r') as zip_ref:\n",
        "    zip_ref.extractall(\"twitter_data\")\n",
        "    print(\"Zip dosyası başarıyla çıkarıldı.\")\n",
        "\n",
        "# Çıkarılan dosyaları listeleme\n",
        "print(\"\\nÇıkarılan dosyalar:\")\n",
        "!ls twitter_data"
      ],
      "metadata": {
        "colab": {
          "base_uri": "https://localhost:8080/",
          "height": 160
        },
        "id": "ZmRznitRSsLJ",
        "outputId": "25784300-bb82-4dd5-d694-8e3fe10e9fb8"
      },
      "execution_count": null,
      "outputs": [
        {
          "output_type": "display_data",
          "data": {
            "text/plain": [
              "<IPython.core.display.HTML object>"
            ],
            "text/html": [
              "\n",
              "     <input type=\"file\" id=\"files-3f3706c1-0c0a-419e-a6bd-305aa1108537\" name=\"files[]\" multiple disabled\n",
              "        style=\"border:none\" />\n",
              "     <output id=\"result-3f3706c1-0c0a-419e-a6bd-305aa1108537\">\n",
              "      Upload widget is only available when the cell has been executed in the\n",
              "      current browser session. Please rerun this cell to enable.\n",
              "      </output>\n",
              "      <script>// Copyright 2017 Google LLC\n",
              "//\n",
              "// Licensed under the Apache License, Version 2.0 (the \"License\");\n",
              "// you may not use this file except in compliance with the License.\n",
              "// You may obtain a copy of the License at\n",
              "//\n",
              "//      http://www.apache.org/licenses/LICENSE-2.0\n",
              "//\n",
              "// Unless required by applicable law or agreed to in writing, software\n",
              "// distributed under the License is distributed on an \"AS IS\" BASIS,\n",
              "// WITHOUT WARRANTIES OR CONDITIONS OF ANY KIND, either express or implied.\n",
              "// See the License for the specific language governing permissions and\n",
              "// limitations under the License.\n",
              "\n",
              "/**\n",
              " * @fileoverview Helpers for google.colab Python module.\n",
              " */\n",
              "(function(scope) {\n",
              "function span(text, styleAttributes = {}) {\n",
              "  const element = document.createElement('span');\n",
              "  element.textContent = text;\n",
              "  for (const key of Object.keys(styleAttributes)) {\n",
              "    element.style[key] = styleAttributes[key];\n",
              "  }\n",
              "  return element;\n",
              "}\n",
              "\n",
              "// Max number of bytes which will be uploaded at a time.\n",
              "const MAX_PAYLOAD_SIZE = 100 * 1024;\n",
              "\n",
              "function _uploadFiles(inputId, outputId) {\n",
              "  const steps = uploadFilesStep(inputId, outputId);\n",
              "  const outputElement = document.getElementById(outputId);\n",
              "  // Cache steps on the outputElement to make it available for the next call\n",
              "  // to uploadFilesContinue from Python.\n",
              "  outputElement.steps = steps;\n",
              "\n",
              "  return _uploadFilesContinue(outputId);\n",
              "}\n",
              "\n",
              "// This is roughly an async generator (not supported in the browser yet),\n",
              "// where there are multiple asynchronous steps and the Python side is going\n",
              "// to poll for completion of each step.\n",
              "// This uses a Promise to block the python side on completion of each step,\n",
              "// then passes the result of the previous step as the input to the next step.\n",
              "function _uploadFilesContinue(outputId) {\n",
              "  const outputElement = document.getElementById(outputId);\n",
              "  const steps = outputElement.steps;\n",
              "\n",
              "  const next = steps.next(outputElement.lastPromiseValue);\n",
              "  return Promise.resolve(next.value.promise).then((value) => {\n",
              "    // Cache the last promise value to make it available to the next\n",
              "    // step of the generator.\n",
              "    outputElement.lastPromiseValue = value;\n",
              "    return next.value.response;\n",
              "  });\n",
              "}\n",
              "\n",
              "/**\n",
              " * Generator function which is called between each async step of the upload\n",
              " * process.\n",
              " * @param {string} inputId Element ID of the input file picker element.\n",
              " * @param {string} outputId Element ID of the output display.\n",
              " * @return {!Iterable<!Object>} Iterable of next steps.\n",
              " */\n",
              "function* uploadFilesStep(inputId, outputId) {\n",
              "  const inputElement = document.getElementById(inputId);\n",
              "  inputElement.disabled = false;\n",
              "\n",
              "  const outputElement = document.getElementById(outputId);\n",
              "  outputElement.innerHTML = '';\n",
              "\n",
              "  const pickedPromise = new Promise((resolve) => {\n",
              "    inputElement.addEventListener('change', (e) => {\n",
              "      resolve(e.target.files);\n",
              "    });\n",
              "  });\n",
              "\n",
              "  const cancel = document.createElement('button');\n",
              "  inputElement.parentElement.appendChild(cancel);\n",
              "  cancel.textContent = 'Cancel upload';\n",
              "  const cancelPromise = new Promise((resolve) => {\n",
              "    cancel.onclick = () => {\n",
              "      resolve(null);\n",
              "    };\n",
              "  });\n",
              "\n",
              "  // Wait for the user to pick the files.\n",
              "  const files = yield {\n",
              "    promise: Promise.race([pickedPromise, cancelPromise]),\n",
              "    response: {\n",
              "      action: 'starting',\n",
              "    }\n",
              "  };\n",
              "\n",
              "  cancel.remove();\n",
              "\n",
              "  // Disable the input element since further picks are not allowed.\n",
              "  inputElement.disabled = true;\n",
              "\n",
              "  if (!files) {\n",
              "    return {\n",
              "      response: {\n",
              "        action: 'complete',\n",
              "      }\n",
              "    };\n",
              "  }\n",
              "\n",
              "  for (const file of files) {\n",
              "    const li = document.createElement('li');\n",
              "    li.append(span(file.name, {fontWeight: 'bold'}));\n",
              "    li.append(span(\n",
              "        `(${file.type || 'n/a'}) - ${file.size} bytes, ` +\n",
              "        `last modified: ${\n",
              "            file.lastModifiedDate ? file.lastModifiedDate.toLocaleDateString() :\n",
              "                                    'n/a'} - `));\n",
              "    const percent = span('0% done');\n",
              "    li.appendChild(percent);\n",
              "\n",
              "    outputElement.appendChild(li);\n",
              "\n",
              "    const fileDataPromise = new Promise((resolve) => {\n",
              "      const reader = new FileReader();\n",
              "      reader.onload = (e) => {\n",
              "        resolve(e.target.result);\n",
              "      };\n",
              "      reader.readAsArrayBuffer(file);\n",
              "    });\n",
              "    // Wait for the data to be ready.\n",
              "    let fileData = yield {\n",
              "      promise: fileDataPromise,\n",
              "      response: {\n",
              "        action: 'continue',\n",
              "      }\n",
              "    };\n",
              "\n",
              "    // Use a chunked sending to avoid message size limits. See b/62115660.\n",
              "    let position = 0;\n",
              "    do {\n",
              "      const length = Math.min(fileData.byteLength - position, MAX_PAYLOAD_SIZE);\n",
              "      const chunk = new Uint8Array(fileData, position, length);\n",
              "      position += length;\n",
              "\n",
              "      const base64 = btoa(String.fromCharCode.apply(null, chunk));\n",
              "      yield {\n",
              "        response: {\n",
              "          action: 'append',\n",
              "          file: file.name,\n",
              "          data: base64,\n",
              "        },\n",
              "      };\n",
              "\n",
              "      let percentDone = fileData.byteLength === 0 ?\n",
              "          100 :\n",
              "          Math.round((position / fileData.byteLength) * 100);\n",
              "      percent.textContent = `${percentDone}% done`;\n",
              "\n",
              "    } while (position < fileData.byteLength);\n",
              "  }\n",
              "\n",
              "  // All done.\n",
              "  yield {\n",
              "    response: {\n",
              "      action: 'complete',\n",
              "    }\n",
              "  };\n",
              "}\n",
              "\n",
              "scope.google = scope.google || {};\n",
              "scope.google.colab = scope.google.colab || {};\n",
              "scope.google.colab._files = {\n",
              "  _uploadFiles,\n",
              "  _uploadFilesContinue,\n",
              "};\n",
              "})(self);\n",
              "</script> "
            ]
          },
          "metadata": {}
        },
        {
          "output_type": "stream",
          "name": "stdout",
          "text": [
            "Saving archive.zip to archive.zip\n",
            "Yüklenen dosya: archive.zip\n",
            "Zip dosyası başarıyla çıkarıldı.\n",
            "\n",
            "Çıkarılan dosyalar:\n",
            "training.1600000.processed.noemoticon.csv\n"
          ]
        }
      ]
    },
    {
      "cell_type": "code",
      "source": [
        "# Çıkarılan dosyalardan veri setini bulma\n",
        "extracted_files = os.listdir(\"twitter_data\")\n",
        "csv_files = [f for f in extracted_files if f.endswith('.csv')]\n",
        "\n",
        "if not csv_files:\n",
        "    raise FileNotFoundError(\"CSV dosyası bulunamadı\")\n",
        "\n",
        "csv_path = f\"twitter_data/{csv_files[0]}\"\n",
        "print(f\"\\nVeri seti bulundu: {csv_path}\")\n",
        "\n",
        "# Farklı kodlamalarla veriyi yükleme\n",
        "encodings = ['utf-8', 'latin-1', 'ISO-8859-1', 'cp1252']\n",
        "\n",
        "for encoding in encodings:\n",
        "    try:\n",
        "        df = pd.read_csv(csv_path, encoding=encoding)\n",
        "        print(f\"✅ Başarılı: {encoding} kodlaması ile yüklendi\")\n",
        "        break\n",
        "    except UnicodeDecodeError:\n",
        "        print(f\"❌ Hata: {encoding} kodlaması çalışmadı\")\n",
        "    except Exception as e:\n",
        "        print(f\"⚠️ Diğer Hata ({encoding}): {str(e)}\")\n",
        "\n",
        "# Veriyi kontrol etme\n",
        "if 'df' in locals():\n",
        "    print(\"\\nVeri seti başarıyla yüklendi!\")\n",
        "    print(\"Veri boyutu:\", df.shape)\n",
        "    print(\"\\nİlk 5 kayıt:\")\n",
        "    print(df.head())\n",
        "    print(\"\\nSütunlar:\", df.columns.tolist())\n",
        "else:\n",
        "    print(\"\\nVeri yüklenemedi. Lütfen dosya formatını kontrol edin.\")"
      ],
      "metadata": {
        "colab": {
          "base_uri": "https://localhost:8080/"
        },
        "id": "8tGzfZe4UDIn",
        "outputId": "68aa4ce7-16ed-4eab-ccb7-5acc7db49651"
      },
      "execution_count": null,
      "outputs": [
        {
          "output_type": "stream",
          "name": "stdout",
          "text": [
            "\n",
            "Veri seti bulundu: twitter_data/training.1600000.processed.noemoticon.csv\n",
            "❌ Hata: utf-8 kodlaması çalışmadı\n",
            "✅ Başarılı: latin-1 kodlaması ile yüklendi\n",
            "\n",
            "Veri seti başarıyla yüklendi!\n",
            "Veri boyutu: (1599999, 6)\n",
            "\n",
            "İlk 5 kayıt:\n",
            "   0  1467810369  Mon Apr 06 22:19:45 PDT 2009  NO_QUERY _TheSpecialOne_  \\\n",
            "0  0  1467810672  Mon Apr 06 22:19:49 PDT 2009  NO_QUERY   scotthamilton   \n",
            "1  0  1467810917  Mon Apr 06 22:19:53 PDT 2009  NO_QUERY        mattycus   \n",
            "2  0  1467811184  Mon Apr 06 22:19:57 PDT 2009  NO_QUERY         ElleCTF   \n",
            "3  0  1467811193  Mon Apr 06 22:19:57 PDT 2009  NO_QUERY          Karoli   \n",
            "4  0  1467811372  Mon Apr 06 22:20:00 PDT 2009  NO_QUERY        joy_wolf   \n",
            "\n",
            "  @switchfoot http://twitpic.com/2y1zl - Awww, that's a bummer.  You shoulda got David Carr of Third Day to do it. ;D  \n",
            "0  is upset that he can't update his Facebook by ...                                                                   \n",
            "1  @Kenichan I dived many times for the ball. Man...                                                                   \n",
            "2    my whole body feels itchy and like its on fire                                                                    \n",
            "3  @nationwideclass no, it's not behaving at all....                                                                   \n",
            "4                      @Kwesidei not the whole crew                                                                    \n",
            "\n",
            "Sütunlar: ['0', '1467810369', 'Mon Apr 06 22:19:45 PDT 2009', 'NO_QUERY', '_TheSpecialOne_', \"@switchfoot http://twitpic.com/2y1zl - Awww, that's a bummer.  You shoulda got David Carr of Third Day to do it. ;D\"]\n"
          ]
        }
      ]
    },
    {
      "source": [
        "# Veri setini yeniden yükleme ve sütun isimlerini ayarlama\n",
        "df = pd.read_csv(csv_path, encoding=encoding, header=None, names=['target', 'ids', 'date', 'flag', 'user', 'text'])  # Sütun isimlerini belirtiyoruz\n",
        "df = df[['text', 'target']]  # Sadece 'text' ve 'target' sütunlarını seçiyoruz\n",
        "df.columns = ['text', 'label']  # Sütun isimlerini 'text' ve 'label' olarak değiştiriyoruz\n",
        "\n",
        "# Veriyi kontrol etme\n",
        "print(\"\\nGüncellenmiş veri seti:\")\n",
        "print(df.head())"
      ],
      "cell_type": "code",
      "metadata": {
        "colab": {
          "base_uri": "https://localhost:8080/"
        },
        "id": "PU7szljcWaeV",
        "outputId": "6960bc81-bcd0-48fb-c03a-d2ff51d1a89d"
      },
      "execution_count": null,
      "outputs": [
        {
          "output_type": "stream",
          "name": "stdout",
          "text": [
            "\n",
            "Güncellenmiş veri seti:\n",
            "                                                text  label\n",
            "0  @switchfoot http://twitpic.com/2y1zl - Awww, t...      0\n",
            "1  is upset that he can't update his Facebook by ...      0\n",
            "2  @Kenichan I dived many times for the ball. Man...      0\n",
            "3    my whole body feels itchy and like its on fire       0\n",
            "4  @nationwideclass no, it's not behaving at all....      0\n"
          ]
        }
      ]
    },
    {
      "cell_type": "code",
      "source": [
        "# Metin temizleme fonksiyonlarını uygulama (artık 'text' sütunu var)\n",
        "df['cleaned_text'] = df['text'].apply(clean_text)\n",
        "df['cleaned_text'] = df['cleaned_text'].apply(remove_stopwords)\n",
        "df['cleaned_text'] = df['cleaned_text'].apply(apply_stemming)\n",
        "\n",
        "# Kontrol\n",
        "print(\"\\nTemizlenmiş metin örnekleri:\")\n",
        "print(df[['text', 'cleaned_text']].head())"
      ],
      "metadata": {
        "colab": {
          "base_uri": "https://localhost:8080/"
        },
        "id": "0InNTaiyWeOF",
        "outputId": "12ea6abb-d4d7-4860-ea30-7943bc84bb98"
      },
      "execution_count": null,
      "outputs": [
        {
          "output_type": "stream",
          "name": "stdout",
          "text": [
            "\n",
            "Temizlenmiş metin örnekleri:\n",
            "                                                text  \\\n",
            "0  @switchfoot http://twitpic.com/2y1zl - Awww, t...   \n",
            "1  is upset that he can't update his Facebook by ...   \n",
            "2  @Kenichan I dived many times for the ball. Man...   \n",
            "3    my whole body feels itchy and like its on fire    \n",
            "4  @nationwideclass no, it's not behaving at all....   \n",
            "\n",
            "                                        cleaned_text  \n",
            "0       that bummer shoulda got david carr third day  \n",
            "1  upset cant updat facebook text might cri resul...  \n",
            "2       dive mani time ball manag save rest go bound  \n",
            "3                    whole bodi feel itchi like fire  \n",
            "4                              behav im mad cant see  \n"
          ]
        }
      ]
    },
    {
      "source": [
        "# Özellik çıkarımı\n",
        "from sklearn.feature_extraction.text import CountVectorizer # Import CountVectorizer\n",
        "\n",
        "vectorizer = CountVectorizer() # Initialize CountVectorizer\n",
        "X = vectorizer.fit_transform(df['cleaned_text'])\n",
        "y = df['label']  # Label sütununu kullanıyoruz\n",
        "\n",
        "# Veriyi bölme\n",
        "X_train, X_test, y_train, y_test = train_test_split(X, y, test_size=0.2, random_state=42)\n",
        "\n",
        "# Model eğitimi\n",
        "model = MultinomialNB()\n",
        "model.fit(X_train, y_train)\n",
        "\n",
        "# Tahminler\n",
        "y_pred = model.predict(X_test)"
      ],
      "cell_type": "code",
      "metadata": {
        "id": "BJ9tvFhFXV7W"
      },
      "execution_count": null,
      "outputs": []
    },
    {
      "cell_type": "code",
      "source": [
        "# Model nesnesinin özelliklerini kontrol etme\n",
        "print(\"Model parametreleri:\", model.get_params())\n",
        "\n",
        "# Modelin eğitilip eğitilmediğini kontrol etme\n",
        "if hasattr(model, 'classes_'):\n",
        "    print(\"\\n✅ Model başarıyla eğitildi!\")\n",
        "    print(\"Sınıflar:\", model.classes_)\n",
        "    print(\"Özellik sayısı:\", model.n_features_in_)\n",
        "else:\n",
        "    print(\"\\n❌ Model eğitilmemiş!\")"
      ],
      "metadata": {
        "colab": {
          "base_uri": "https://localhost:8080/"
        },
        "id": "DKjlHgvxYD38",
        "outputId": "cde5333c-ef49-41fb-e467-6293adb9a51e"
      },
      "execution_count": null,
      "outputs": [
        {
          "output_type": "stream",
          "name": "stdout",
          "text": [
            "Model parametreleri: {'alpha': 1.0, 'class_prior': None, 'fit_prior': True, 'force_alpha': True}\n",
            "\n",
            "✅ Model başarıyla eğitildi!\n",
            "Sınıflar: [0 4]\n",
            "Özellik sayısı: 370371\n"
          ]
        }
      ]
    },
    {
      "cell_type": "code",
      "source": [
        "# Eğitim seti üzerinde doğruluk kontrolü\n",
        "train_score = model.score(X_train, y_train)\n",
        "print(f\"\\nEğitim seti doğruluk oranı: {train_score:.2%}\")\n",
        "\n",
        "# Test seti üzerinde doğruluk kontrolü\n",
        "test_score = model.score(X_test, y_test)\n",
        "print(f\"Test seti doğruluk oranı: {test_score:.2%}\")\n",
        "\n",
        "# Sınıflandırma raporu\n",
        "print(\"\\nDetaylı sınıflandırma raporu:\")\n",
        "print(classification_report(y_test, y_pred))"
      ],
      "metadata": {
        "colab": {
          "base_uri": "https://localhost:8080/"
        },
        "id": "LJEKmpCbYHf-",
        "outputId": "c3a6b58e-25bf-4a78-bf9a-6d658f041987"
      },
      "execution_count": null,
      "outputs": [
        {
          "output_type": "stream",
          "name": "stdout",
          "text": [
            "\n",
            "Eğitim seti doğruluk oranı: 80.05%\n",
            "Test seti doğruluk oranı: 76.64%\n",
            "\n",
            "Detaylı sınıflandırma raporu:\n",
            "              precision    recall  f1-score   support\n",
            "\n",
            "           0       0.76      0.78      0.77    159494\n",
            "           4       0.78      0.75      0.76    160506\n",
            "\n",
            "    accuracy                           0.77    320000\n",
            "   macro avg       0.77      0.77      0.77    320000\n",
            "weighted avg       0.77      0.77      0.77    320000\n",
            "\n"
          ]
        }
      ]
    },
    {
      "cell_type": "code",
      "source": [
        "# Örnek bir tahmin yapma\n",
        "sample_text = \"I really love this product, it's amazing!\"\n",
        "prediction = model.predict(vectorizer.transform([sample_text]))\n",
        "print(f\"\\nÖrnek tahmin ('{sample_text}'): {prediction[0]}\")\n",
        "\n",
        "# Tahmin olasılıklarını görme\n",
        "probabilities = model.predict_proba(vectorizer.transform([sample_text]))\n",
        "print(f\"Tahmin olasılıkları: {probabilities}\")"
      ],
      "metadata": {
        "colab": {
          "base_uri": "https://localhost:8080/"
        },
        "id": "saSwcEtVYK1J",
        "outputId": "8cfead5d-3882-40d7-aaa0-e863e9db9bd1"
      },
      "execution_count": null,
      "outputs": [
        {
          "output_type": "stream",
          "name": "stdout",
          "text": [
            "\n",
            "Örnek tahmin ('I really love this product, it's amazing!'): 4\n",
            "Tahmin olasılıkları: [[0.10727334 0.89272666]]\n"
          ]
        }
      ]
    },
    {
      "cell_type": "code",
      "source": [
        "# Karışıklık matrisi görselleştirme\n",
        "plt.figure(figsize=(8, 6))\n",
        "sns.heatmap(confusion_matrix(y_test, y_pred),\n",
        "            annot=True, fmt='d', cmap='Blues',\n",
        "            xticklabels=model.classes_,\n",
        "            yticklabels=model.classes_)\n",
        "plt.title('Karışıklık Matrisi')\n",
        "plt.xlabel('Tahmin Edilen')\n",
        "plt.ylabel('Gerçek Değer')\n",
        "plt.show()"
      ],
      "metadata": {
        "colab": {
          "base_uri": "https://localhost:8080/",
          "height": 564
        },
        "id": "1vPl8l4QYQPd",
        "outputId": "970bd60d-8ad8-4be4-876a-d353a9c4184f"
      },
      "execution_count": null,
      "outputs": [
        {
          "output_type": "display_data",
          "data": {
            "text/plain": [
              "<Figure size 800x600 with 2 Axes>"
            ],
            "image/png": "[encoded data removed]"
          },
          "metadata": {}
        }
      ]
    },
    {
      "cell_type": "code",
      "source": [
        "# En önemli kelimeleri görüntüleme\n",
        "def show_top_features(vectorizer, model, n=20):\n",
        "    feature_names = vectorizer.get_feature_names_out()\n",
        "    coefs = model.feature_log_prob_\n",
        "\n",
        "    print(\"En önemli pozitif kelimeler:\")\n",
        "    print([feature_names[i] for i in coefs[1].argsort()[-n:][::-1]])\n",
        "\n",
        "    print(\"\\nEn önemli negatif kelimeler:\")\n",
        "    print([feature_names[i] for i in coefs[0].argsort()[-n:][::-1]])\n",
        "\n",
        "show_top_features(vectorizer, model)"
      ],
      "metadata": {
        "colab": {
          "base_uri": "https://localhost:8080/"
        },
        "id": "xY-AP0jLYToC",
        "outputId": "cccd53be-7222-4737-b351-bdb7a74a8dc8"
      },
      "execution_count": null,
      "outputs": [
        {
          "output_type": "stream",
          "name": "stdout",
          "text": [
            "En önemli pozitif kelimeler:\n",
            "['im', 'good', 'love', 'go', 'day', 'thank', 'get', 'like', 'lol', 'time', 'today', 'see', 'got', 'work', 'one', 'know', 'new', 'watch', 'great', 'well']\n",
            "\n",
            "En önemli negatif kelimeler:\n",
            "['im', 'go', 'get', 'work', 'day', 'miss', 'dont', 'cant', 'like', 'want', 'today', 'feel', 'got', 'back', 'realli', 'time', 'good', 'still', 'one', 'sad']\n"
          ]
        }
      ]
    },
    {
      "cell_type": "code",
      "source": [
        "from sklearn.model_selection import cross_val_score\n",
        "\n",
        "# 5 katlı çapraz doğrulama\n",
        "cv_scores = cross_val_score(model, X, y, cv=5)\n",
        "print(f\"\\nÇapraz doğrulama sonuçları: {cv_scores}\")\n",
        "print(f\"Ortalama doğruluk: {cv_scores.mean():.2%} (±{cv_scores.std():.2%})\")"
      ],
      "metadata": {
        "colab": {
          "base_uri": "https://localhost:8080/"
        },
        "id": "xobDJz0VYlly",
        "outputId": "b2ab91aa-965d-4ce7-d9fc-9b1201166807"
      },
      "execution_count": null,
      "outputs": [
        {
          "output_type": "stream",
          "name": "stdout",
          "text": [
            "\n",
            "Çapraz doğrulama sonuçları: [0.76088437 0.75628125 0.75701875 0.76584375 0.7594875 ]\n",
            "Ortalama doğruluk: 75.99% (±0.34%)\n"
          ]
        }
      ]
    }
  ]
}